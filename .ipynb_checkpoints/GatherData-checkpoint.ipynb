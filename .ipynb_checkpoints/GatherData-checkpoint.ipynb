{
 "cells": [
  {
   "cell_type": "code",
   "execution_count": null,
   "id": "11b7940f",
   "metadata": {},
   "outputs": [],
   "source": [
    "import pandas as pd\n",
    "from binance.client import Client\n",
    "from Binance_keys import api_key , secret_key\n",
    "import time "
   ]
  },
  {
   "cell_type": "code",
   "execution_count": null,
   "id": "ffa46d47",
   "metadata": {},
   "outputs": [],
   "source": [
    "client = Client(api_key, secret_key)"
   ]
  },
  {
   "cell_type": "code",
   "execution_count": null,
   "id": "4ee7ace6",
   "metadata": {},
   "outputs": [],
   "source": [
    "coins = ['BTC' , 'ETH', 'LTC']\n",
    "\n",
    "\n",
    "merge = False\n",
    "for coin in coins:\n",
    "    print(f'gathering data{coin}...')\n",
    "    start_str = 'Mar 15, 2022'\n",
    "\n",
    "    klines = client.get_historical_klines(symbol =f'{coin}USDT', interval=client.KLINE_INTERVAL_1MINUTE, start_str= start_str)\n",
    "\n",
    "# coin_df.rename(columns={0:'OpenTime' , 1:'USD_Open', 2:'USD_High', 3:'USD_Low' ,4:'USD_Close', 5:'USD_Volume', 6:'CloseTime', 7:'QuoteAssetVolume', 8:'NumberOfTrades', 9:'TBBAV',10:'TRQAV', 11: 'igrone' } ,inplace=True)\n",
    "# coin_df= pd.DataFrame(klines)\n",
    "# coin_df\n",
    "    cols = ['OpenTime',\n",
    "             f'{coin}-USD_Open',\n",
    "             f'{coin}-USD_High',\n",
    "             f'{coin}-USD_low',\n",
    "             f'{coin}-USD_Close',\n",
    "             f'{coin}-USD_Volume',\n",
    "            'CloseTime',\n",
    "             f'{coin}-QuoteAssetVolume',\n",
    "             f'{coin}-NumberOfTrades',\n",
    "             f'{coin}-TBBAV',\n",
    "             f'{coin}-TBBQA',\n",
    "             f'{coin}-Ignore'\n",
    "                      \n",
    "           ]\n",
    "\n",
    "    coin_df = pd.DataFrame(klines, columns=cols)\n",
    "\n",
    "    if merge == True:\n",
    "        all_coins_df = pd.merge(coin_df, all_coins_df, how ='inner', on = ['OpenTime','CloseTime'])\n",
    "    else:\n",
    "        all_coins_df = coin_df\n",
    "        merge = True\n",
    "        \n",
    "        \n",
    "    time.sleep(60)\n",
    "\n"
   ]
  },
  {
   "cell_type": "code",
   "execution_count": null,
   "id": "b78fd3dd",
   "metadata": {},
   "outputs": [],
   "source": [
    "klines"
   ]
  },
  {
   "cell_type": "code",
   "execution_count": null,
   "id": "e0a056b8",
   "metadata": {},
   "outputs": [],
   "source": [
    "cols = ['OpenTime',\n",
    "             f'{coin}-USD_Open',\n",
    "             f'{coin}-USD_High',\n",
    "             f'{coin}-USD_low',\n",
    "             f'{coin}-USD_Close',\n",
    "             f'{coin}-USD_Volume',\n",
    "            'CloseTime',\n",
    "             f'{coin}-QuoteAssetVolume',\n",
    "             f'{coin}-NumberOfTrades',\n",
    "             f'{coin}-TBBAV',\n",
    "             f'{coin}-TBBQA',\n",
    "             f'{coin}-Ignore'\n",
    "                      \n",
    "           ]\n",
    "\n",
    "pd.DataFrame(klines, columns=cols)"
   ]
  },
  {
   "cell_type": "code",
   "execution_count": null,
   "id": "2513de37",
   "metadata": {},
   "outputs": [],
   "source": [
    "cols = ['OpenTime',\n",
    "         f'{coin}-Usd_Open'\n",
    "       ]\n",
    "\n",
    "coin_df = pd.DataFrame(klines, columns=cols)\n",
    "coin_df"
   ]
  },
  {
   "cell_type": "code",
   "execution_count": null,
   "id": "9cee8063",
   "metadata": {},
   "outputs": [],
   "source": [
    "list(all_coins_df.columns)"
   ]
  },
  {
   "cell_type": "code",
   "execution_count": null,
   "id": "5328eda3",
   "metadata": {},
   "outputs": [],
   "source": []
  },
  {
   "cell_type": "code",
   "execution_count": null,
   "id": "90a52a0d",
   "metadata": {},
   "outputs": [],
   "source": [
    "all_coins_df"
   ]
  },
  {
   "cell_type": "code",
   "execution_count": null,
   "id": "715e4187",
   "metadata": {},
   "outputs": [],
   "source": [
    "all_coins_df['OpenTime'].iloc[0]/1000"
   ]
  },
  {
   "cell_type": "code",
   "execution_count": null,
   "id": "d46caabf",
   "metadata": {},
   "outputs": [],
   "source": [
    "from datetime import datetime\n",
    "import plotly.graph_objects as go"
   ]
  },
  {
   "cell_type": "code",
   "execution_count": null,
   "id": "f57b958c",
   "metadata": {},
   "outputs": [],
   "source": [
    "datetime.fromtimestamp(all_coins_df[\"OpenTime\"].iloc[0]/1000)"
   ]
  },
  {
   "cell_type": "code",
   "execution_count": 1,
   "id": "f8146928",
   "metadata": {},
   "outputs": [
    {
     "ename": "NameError",
     "evalue": "name 'all_coins_df' is not defined",
     "output_type": "error",
     "traceback": [
      "\u001b[1;31m---------------------------------------------------------------------------\u001b[0m",
      "\u001b[1;31mNameError\u001b[0m                                 Traceback (most recent call last)",
      "Input \u001b[1;32mIn [1]\u001b[0m, in \u001b[0;36m<cell line: 1>\u001b[1;34m()\u001b[0m\n\u001b[1;32m----> 1\u001b[0m all_coins_df[\u001b[38;5;124m'\u001b[39m\u001b[38;5;124mOpenTime\u001b[39m\u001b[38;5;124m'\u001b[39m]\u001b[38;5;241m=\u001b[39m [datetime\u001b[38;5;241m.\u001b[39mfromtimestamp(ts\u001b[38;5;241m/\u001b[39m\u001b[38;5;241m1000\u001b[39m) \u001b[38;5;28;01mfor\u001b[39;00m ts \u001b[38;5;129;01min\u001b[39;00m \u001b[43mall_coins_df\u001b[49m[\u001b[38;5;124m'\u001b[39m\u001b[38;5;124mOpenTime\u001b[39m\u001b[38;5;124m'\u001b[39m]]\n\u001b[0;32m      2\u001b[0m all_coins_df[\u001b[38;5;124m'\u001b[39m\u001b[38;5;124mCloseTime\u001b[39m\u001b[38;5;124m'\u001b[39m]\u001b[38;5;241m=\u001b[39m [datetime\u001b[38;5;241m.\u001b[39mfromtimestamp(ts\u001b[38;5;241m/\u001b[39m\u001b[38;5;241m1000\u001b[39m) \u001b[38;5;28;01mfor\u001b[39;00m ts \u001b[38;5;129;01min\u001b[39;00m all_coins_df[\u001b[38;5;124m'\u001b[39m\u001b[38;5;124mCloseTime\u001b[39m\u001b[38;5;124m'\u001b[39m]]\n",
      "\u001b[1;31mNameError\u001b[0m: name 'all_coins_df' is not defined"
     ]
    }
   ],
   "source": [
    "all_coins_df['OpenTime']= [datetime.fromtimestamp(ts/1000) for ts in all_coins_df['OpenTime']]\n",
    "all_coins_df['CloseTime']= [datetime.fromtimestamp(ts/1000) for ts in all_coins_df['CloseTime']]"
   ]
  },
  {
   "cell_type": "code",
   "execution_count": 2,
   "id": "5e94466f",
   "metadata": {},
   "outputs": [
    {
     "ename": "NameError",
     "evalue": "name 'all_coins_df' is not defined",
     "output_type": "error",
     "traceback": [
      "\u001b[1;31m---------------------------------------------------------------------------\u001b[0m",
      "\u001b[1;31mNameError\u001b[0m                                 Traceback (most recent call last)",
      "Input \u001b[1;32mIn [2]\u001b[0m, in \u001b[0;36m<cell line: 1>\u001b[1;34m()\u001b[0m\n\u001b[1;32m----> 1\u001b[0m \u001b[38;5;28;01mfor\u001b[39;00m col \u001b[38;5;129;01min\u001b[39;00m \u001b[43mall_coins_df\u001b[49m\u001b[38;5;241m.\u001b[39mcolumns:\n\u001b[0;32m      2\u001b[0m     \u001b[38;5;28;01mif\u001b[39;00m \u001b[38;5;129;01mnot\u001b[39;00m \u001b[38;5;124m'\u001b[39m\u001b[38;5;124mTime\u001b[39m\u001b[38;5;124m'\u001b[39m \u001b[38;5;129;01min\u001b[39;00m col:\n\u001b[0;32m      3\u001b[0m         all_coins_df[col] \u001b[38;5;241m=\u001b[39m all_coins_df[col]\u001b[38;5;241m.\u001b[39mastype(\u001b[38;5;28mfloat\u001b[39m)\n",
      "\u001b[1;31mNameError\u001b[0m: name 'all_coins_df' is not defined"
     ]
    }
   ],
   "source": [
    "for col in all_coins_df.columns:\n",
    "    if not 'Time' in col:\n",
    "        all_coins_df[col] = all_coins_df[col].astype(float)"
   ]
  },
  {
   "cell_type": "code",
   "execution_count": 3,
   "id": "0ad98f52",
   "metadata": {},
   "outputs": [
    {
     "ename": "NameError",
     "evalue": "name 'all_coins_df' is not defined",
     "output_type": "error",
     "traceback": [
      "\u001b[1;31m---------------------------------------------------------------------------\u001b[0m",
      "\u001b[1;31mNameError\u001b[0m                                 Traceback (most recent call last)",
      "Input \u001b[1;32mIn [3]\u001b[0m, in \u001b[0;36m<cell line: 1>\u001b[1;34m()\u001b[0m\n\u001b[1;32m----> 1\u001b[0m \u001b[43mall_coins_df\u001b[49m\n",
      "\u001b[1;31mNameError\u001b[0m: name 'all_coins_df' is not defined"
     ]
    }
   ],
   "source": [
    "all_coins_df"
   ]
  },
  {
   "cell_type": "code",
   "execution_count": null,
   "id": "d1eb59c0",
   "metadata": {},
   "outputs": [],
   "source": [
    "list(all_coins_df)"
   ]
  },
  {
   "cell_type": "code",
   "execution_count": null,
   "id": "726b6a68",
   "metadata": {},
   "outputs": [],
   "source": [
    "fig = go.Figure(data=[go.Candlestick(x=all_coins_df['OpenTime'],\n",
    "                open=all_coins_df['BTC-USD_Open'],\n",
    "                high=all_coins_df['BTC-USD_High'],\n",
    "                low=all_coins_df['BTC-USD_low'],\n",
    "                close=all_coins_df['BTC-USD_Close'])])\n",
    "\n",
    "fig.update_layout(xaxis_rangeslider_visible=False)\n",
    "\n",
    "fig.show()"
   ]
  },
  {
   "cell_type": "code",
   "execution_count": null,
   "id": "e294083f",
   "metadata": {},
   "outputs": [],
   "source": []
  },
  {
   "cell_type": "code",
   "execution_count": null,
   "id": "4da2811d",
   "metadata": {},
   "outputs": [],
   "source": []
  }
 ],
 "metadata": {
  "kernelspec": {
   "display_name": "Python 3 (ipykernel)",
   "language": "python",
   "name": "python3"
  },
  "language_info": {
   "codemirror_mode": {
    "name": "ipython",
    "version": 3
   },
   "file_extension": ".py",
   "mimetype": "text/x-python",
   "name": "python",
   "nbconvert_exporter": "python",
   "pygments_lexer": "ipython3",
   "version": "3.9.6"
  }
 },
 "nbformat": 4,
 "nbformat_minor": 5
}
